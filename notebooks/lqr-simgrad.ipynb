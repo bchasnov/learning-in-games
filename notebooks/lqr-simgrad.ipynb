{
 "cells": [
  {
   "cell_type": "code",
   "execution_count": 1,
   "metadata": {},
   "outputs": [],
   "source": [
    "import jax\n",
    "import jax.numpy as jnp\n",
    "from jax import jit, lax, random, vmap, grad\n",
    "\n",
    "import numpy as np\n",
    "import matplotlib.pyplot as plt\n",
    "\n",
    "from functools import partial"
   ]
  },
  {
   "cell_type": "code",
   "execution_count": 2,
   "metadata": {
    "scrolled": false
   },
   "outputs": [
    {
     "name": "stderr",
     "output_type": "stream",
     "text": [
      "WARNING:absl:No GPU/TPU found, falling back to CPU. (Set TF_CPP_MIN_LOG_LEVEL=0 and rerun for more info.)\n"
     ]
    },
    {
     "name": "stdout",
     "output_type": "stream",
     "text": [
      "[[0.9]]\n",
      "1\n"
     ]
    }
   ],
   "source": [
    "def linear_quadratic_two_player(A, B1, B2, Q1, Q2, R11, R12, R21, R22, state_noise):\n",
    "    \"\"\" Generator for linear state dynamics and quadratic costs. \"\"\"\n",
    "    print(A)\n",
    "    n_state = A.shape[0]\n",
    "    n_act1 = B1.shape[1]\n",
    "    n_act2 = B2.shape[1]\n",
    "    \n",
    "    assert A.shape[0] == A.shape[1], \"A must be square\"\n",
    "    assert B1.shape[0] == n_state and B2.shape[0] == n_state, \"B1,B2 are in the wrong shape\"\n",
    "    assert R11.shape == (n_act1, n_act1), \"R11 is in the wrong shape\"\n",
    "    assert R12.shape == (n_act2, n_act2), \"R12 is in the wrong shape\"\n",
    "    assert R21.shape == (n_act1, n_act1), \"R21 is in the wrong shape\"\n",
    "    assert R22.shape == (n_act2, n_act2), \"R22 is in the wrong shape\"\n",
    "    print(n_state)\n",
    "    assert Q1.shape == (n_state, n_state), \"Q1 is in the wrong shape\"\n",
    "    assert Q2.shape == (n_state, n_state), \"Q2 is in the wrong shape\"\n",
    "    assert state_noise >= 0\n",
    "    \n",
    "    K1 = jnp.zeros(B1.shape).T\n",
    "    K2 = jnp.zeros(B2.shape).T\n",
    "    \n",
    "    def state_dynamics(state, key, policies=(K1,K2)):\n",
    "        K1, K2 = policies\n",
    "        act1, act2 = K1@state, K2@state\n",
    "\n",
    "        noise = random.normal(key, (n_state,))\n",
    "        state = A@state + B1@act1 + B2@act2 + state_noise**2*noise\n",
    "\n",
    "        cost1 = state.T@Q1@state + act1.T@R11@act1 + act2.T@R12@act2\n",
    "        cost2 = state.T@Q2@state + act1.T@R21@act1 + act2.T@R22@act2\n",
    "        costs = (cost1, cost2)\n",
    "\n",
    "        return state, dict(costs=costs, state=state)\n",
    "    \n",
    "    return state_dynamics\n",
    "\n",
    "# Vector\n",
    "n_state = 3\n",
    "n_actions = 2\n",
    "\n",
    "Is = np.eye(n_state)\n",
    "Ia = np.eye(n_actions)\n",
    "Isa = np.ones((n_state, n_actions))\n",
    "\n",
    "sys3_coop_params = dict(A=0.3*Is, B1=Isa, B2=Isa,\n",
    "                        Q1=Is, Q2=3*Is, R11=Ia, R12=Ia, R21=Ia, R22=Ia,\n",
    "                        state_noise=.2)\n",
    "\n",
    "sys3_zs_params = dict(A=0.3*Is, B1=Isa, B2=Isa,\n",
    "                      Q1=Is, Q2=-Is, R11=Ia, R12=-Ia, R21=-Ia, R22=Ia,\n",
    "                      state_noise=.2)\n",
    "\n",
    "\n",
    "# Scalar \n",
    "I = np.eye(1)\n",
    "Q = 10*I\n",
    "R1 = 1*I\n",
    "R2 = -.5*I\n",
    "\n",
    "sys1_zs_params = dict(A=0.9*I, B1=.2*I, B2=0.05*I,\n",
    "                      Q1=Q, Q2=-Q, R11=R1, R12=R2, R21=-R1, R22=-R2,\n",
    "                      state_noise=.5)\n",
    "\n",
    "\n",
    "systems = {\"Scalar zero-sum\": sys1_zs_params,\n",
    "          \"Vector cooperative\": sys3_coop_params}\n",
    "# TODO: set to known nash using the coupled riccatti equations\n",
    "\n",
    "sys_params = sys1_zs_params\n",
    "\n",
    "shape = sys_params['B1'].shape\n",
    "K1 = jnp.zeros(shape).T\n",
    "K2 = jnp.zeros(shape).T\n",
    "learn_params = dict(lr1=1e-4, lr2=1e-4)\n",
    "\n",
    "dynamics = linear_quadratic_two_player(**sys_params)\n",
    "\n",
    "n_samples = 1\n",
    "T = 15    \n",
    "seed = 0\n",
    "key = random.PRNGKey(seed)\n",
    "\n",
    "n_epoch = 1000\n",
    "n_iters = 32\n",
    "\n",
    "policies = (K1, K2)\n",
    "\n",
    "\n",
    "def sample(key, K1, K2):\n",
    "    \"\"\" Sample total costs from one trajectory \"\"\"\n",
    "    prngs = random.split(key, T+1)\n",
    "    x0 = random.normal(key, (K1.shape[1],))\n",
    "    _, res = lax.scan(partial(dynamics, policies=(K1, K2)), x0, prngs)\n",
    "    return res['costs'][0].sum(), res['costs'][1].sum()\n",
    "\n",
    "def samples1(key, K1, K2, N=n_samples):\n",
    "    \"\"\" Sample average total costs from N trajectories (player 2) \"\"\"\n",
    "    keys = random.split(key, N)\n",
    "    cost1, cost2 = vmap(partial(sample, K1=K1, K2=K2))(keys)\n",
    "    return cost1.mean()\n",
    "\n",
    "def samples2(key, K1, K2, N=n_samples):\n",
    "    \"\"\" Sample average total costs from N trajectories (player 2) \"\"\"\n",
    "    keys = random.split(key, N)\n",
    "    cost1, cost2 = vmap(partial(sample, K1=K1, K2=K2))(keys)\n",
    "    return cost2.mean()\n",
    "\n",
    "D1f1 = grad(samples1, argnums=1)\n",
    "D2f2 = grad(samples2, argnums=2)\n",
    "\n",
    "@jit\n",
    "def simgrad(policies, key, lr1, lr2):\n",
    "    K1, K2 = policies\n",
    "    g1, g2 = D1f1(key, K1, K2), D2f2(key, K1, K2)\n",
    "\n",
    "    K1 = K1 - lr1*g1\n",
    "    K2 = K2 - lr2*g2\n",
    "    return (K1, K2), dict(K1=K1, K2=K2, gradnorm1=jnp.linalg.norm(K1), gradnorm2=jnp.linalg.norm(K2))\n",
    "\n",
    "\n",
    "def multi_step(key, policies, N=n_iters):\n",
    "    keys = random.split(key, N)\n",
    "    policies, res = lax.scan(partial(simgrad, **learn_params), policies, keys)\n",
    "    return policies, res\n",
    "\n",
    "multi_step = jit(multi_step)\n",
    "\n",
    "results = []\n",
    "for epoch in range(n_epoch):\n",
    "    policies, res = multi_step(key, policies)\n",
    "#     print(\"=======\")\n",
    "#     print(\"epoch:\", epoch)\n",
    "#     print(\"gradnorm:\", res['gradnorm1'][-1])\n",
    "    results.append(res)"
   ]
  },
  {
   "cell_type": "code",
   "execution_count": 3,
   "metadata": {},
   "outputs": [
    {
     "data": {
      "text/plain": [
       "[<matplotlib.lines.Line2D at 0x10be4dd90>]"
      ]
     },
     "execution_count": 3,
     "metadata": {},
     "output_type": "execute_result"
    },
    {
     "data": {
      "image/png": "[encoded data removed]",
      "text/plain": [
       "<Figure size 432x288 with 1 Axes>"
      ]
     },
     "metadata": {
      "needs_background": "light"
     },
     "output_type": "display_data"
    }
   ],
   "source": [
    "out = dict(**results[0])\n",
    "for res in results[1:]:\n",
    "    for k in res.keys():\n",
    "        out[k] = jnp.concatenate((out[k], res[k]))\n",
    "        \n",
    "plt.plot(out['gradnorm1'])\n",
    "plt.plot(out['gradnorm2'])"
   ]
  },
  {
   "cell_type": "code",
   "execution_count": 4,
   "metadata": {},
   "outputs": [
    {
     "data": {
      "text/plain": [
       "<matplotlib.legend.Legend at 0x13239f880>"
      ]
     },
     "execution_count": 4,
     "metadata": {},
     "output_type": "execute_result"
    },
    {
     "data": {
      "image/png": "[encoded data removed]",
      "text/plain": [
       "<Figure size 432x288 with 1 Axes>"
      ]
     },
     "metadata": {
      "needs_background": "light"
     },
     "output_type": "display_data"
    }
   ],
   "source": [
    "plt.plot(out['K1'].flatten(), label='K1')\n",
    "plt.plot(out['K2'].flatten(), label='K2')\n",
    "plt.legend()"
   ]
  },
  {
   "cell_type": "code",
   "execution_count": 5,
   "metadata": {},
   "outputs": [
    {
     "data": {
      "text/plain": [
       "(DeviceArray([[-2.156344]], dtype=float32),\n",
       " DeviceArray([[1.077979]], dtype=float32))"
      ]
     },
     "execution_count": 5,
     "metadata": {},
     "output_type": "execute_result"
    }
   ],
   "source": [
    "out['K1'][-1],out['K2'][-1]"
   ]
  },
  {
   "cell_type": "code",
   "execution_count": null,
   "metadata": {},
   "outputs": [],
   "source": []
  }
 ],
 "metadata": {
  "kernelspec": {
   "display_name": "Python 3",
   "language": "python",
   "name": "python3"
  },
  "language_info": {
   "codemirror_mode": {
    "name": "ipython",
    "version": 3
   },
   "file_extension": ".py",
   "mimetype": "text/x-python",
   "name": "python",
   "nbconvert_exporter": "python",
   "pygments_lexer": "ipython3",
   "version": "3.8.3"
  },
  "toc": {
   "base_numbering": 1,
   "nav_menu": {},
   "number_sections": true,
   "sideBar": true,
   "skip_h1_title": false,
   "title_cell": "Table of Contents",
   "title_sidebar": "Contents",
   "toc_cell": false,
   "toc_position": {},
   "toc_section_display": true,
   "toc_window_display": false
  }
 },
 "nbformat": 4,
 "nbformat_minor": 4
}
