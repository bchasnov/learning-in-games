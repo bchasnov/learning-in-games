{
 "cells": [
  {
   "cell_type": "code",
   "execution_count": 330,
   "metadata": {},
   "outputs": [
    {
     "name": "stdout",
     "output_type": "stream",
     "text": [
      "Player 1: [0.762 0.238]\n",
      "Player 2: [0.802 0.198]\n",
      "Player 3: [2.976e-08 1.000e+00]\n",
      "zero: 7.2508696957885176e-06\n"
     ]
    }
   ],
   "source": [
    "import cvxpy as cp\n",
    "import numpy as np\n",
    "np.set_printoptions(precision=3)\n",
    "\n",
    "A12 = np.array([[1,3],[0,2]])\n",
    "A21 = np.array([[1,0],[3,2]]).T\n",
    "A13 = np.array([[1,0],[0,1]])\n",
    "A23 = np.array([[1,0],[0,1]])\n",
    "A31 = np.array([[-1,-1],[-1,-3]])\n",
    "A32 = np.array([[-3,-3],[-1,-3]])\n",
    "\n",
    "n_players = 3\n",
    "n_actions = 2\n",
    "\n",
    "w = cp.Variable(n_players)\n",
    "x = cp.Variable((n_players, n_actions))\n",
    "S = np.eye(n_actions)\n",
    "\n",
    "obj = cp.Minimize(cp.sum(w))\n",
    "constraints = []\n",
    "constraints += [w[0] >= S[0]@(A12@x[1] + A13@x[2])]\n",
    "constraints += [w[0] >= S[1]@(A12@x[1] + A13@x[2])]\n",
    "constraints += [w[1] >= S[0]@(A21@x[0] + A23@x[2])]\n",
    "constraints += [w[1] >= S[1]@(A21@x[0] + A23@x[2])]\n",
    "constraints += [w[2] >= S[0]@(A31@x[0] + A32@x[1])]\n",
    "constraints += [w[2] >= S[1]@(A31@x[0] + A32@x[1])]\n",
    "constraints += [x >= 0, x@np.array([1, 1]) == 1]\n",
    "\n",
    "prob = cp.Problem(obj, constraints)\n",
    "val = prob.solve()\n",
    "x_actual = x.value\n",
    "print(\"Player 1:\", x_actual[0])\n",
    "print(\"Player 2:\", x_actual[1])\n",
    "print(\"Player 3:\", x_actual[2])\n",
    "print(\"zero:\", val)\n"
   ]
  },
  {
   "cell_type": "code",
   "execution_count": 432,
   "metadata": {},
   "outputs": [
    {
     "data": {
      "text/plain": [
       "(DeviceArray([-0.003+0.001j, -0.003-0.001j, -0.001+0.j   ], dtype=complex64),\n",
       " (DeviceArray([-0.001,  0.   , -0.002], dtype=float32),\n",
       "  DeviceArray([-2.086e-06, -8.717e-04, -1.441e-03], dtype=float32),\n",
       "  DeviceArray([ 0.002,  0.001, -0.005], dtype=float32)))"
      ]
     },
     "execution_count": 432,
     "metadata": {},
     "output_type": "execute_result"
    }
   ],
   "source": [
    "import jax.numpy as np\n",
    "import numpy as onp\n",
    "import matplotlib.pyplot as plt\n",
    "\n",
    "from jax import grad, jacobian, random, lax, vmap\n",
    "key = random.PRNGKey(0)\n",
    "\n",
    "from functools import partial\n",
    "from collections import namedtuple\n",
    "\n",
    "def softmax_2actions(a=[2.5,-2.5], b=[0, 1]):\n",
    "    \"\"\" 2 action softmax \"\"\"\n",
    "    a = np.array(a)\n",
    "    da = np.array([1, -1])*(a[0]-a[1])\n",
    "    b = np.array(b)\n",
    "    def pi(x):\n",
    "        x = a*x + b    # affine shift \n",
    "        x -= np.max(x) # numerical stability, since pi(x) = pi(x+c)\n",
    "        X = np.sum(np.exp(x))\n",
    "        return np.exp(x)/X\n",
    "\n",
    "    def dpi(x):\n",
    "        p = pi(x)\n",
    "        return (1 - p)*p*da\n",
    "      \n",
    "    def ddpi(x):\n",
    "        return (1 - 2*pi(x))*dpi(x)*da\n",
    "    \n",
    "    return pi, dpi, ddpi\n",
    "\n",
    "def polymatrix_3p_2a(A12,A21,A13,A31,A23,A32, \n",
    "                     softmax_temperature=2.5,\n",
    "                     softmax_shift=0.5):\n",
    "    \n",
    "    pi, dpi, ddpi = \\\n",
    "    softmax_2actions([softmax_temperature, -softmax_temperature], softmax_shift)\n",
    "    \n",
    "    def f1(x1, x2, x3): return pi(x1)@A12@pi(x2) + pi(x1)@A13@pi(x3)\n",
    "    def f2(x1, x2, x3): return pi(x2)@A21@pi(x1) + pi(x2)@A23@pi(x3)\n",
    "    def f3(x1, x2, x3): return pi(x3)@A31@pi(x1) + pi(x3)@A32@pi(x2)\n",
    "    \n",
    "    def D1f1(x1, x2, x3): return dpi(x1)@A12@pi(x2) + dpi(x1)@A13@pi(x3)\n",
    "    def D2f2(x1, x2, x3): return dpi(x2)@A21@pi(x1) + dpi(x2)@A23@pi(x3)\n",
    "    def D3f3(x1, x2, x3): return dpi(x3)@A31@pi(x1) + dpi(x3)@A32@pi(x2)\n",
    "    \n",
    "    def D11f1(x1, x2, x3): return ddpi(x1)@A12@pi(x2) + ddpi(x1)@A13@pi(x3)\n",
    "    def D12f1(x1, x2, x3): return dpi(x1)@A12@dpi(x2) \n",
    "    def D13f1(x1, x2, x3): return dpi(x1)@A13@dpi(x3) \n",
    "    def D21f2(x1, x2, x3): return dpi(x2)@A21@dpi(x1) \n",
    "    def D22f2(x1, x2, x3): return ddpi(x2)@A21@pi(x2) + ddpi(x2)@A23@pi(x3)\n",
    "    def D23f2(x1, x2, x3): return dpi(x2)@A23@dpi(x3) \n",
    "    def D31f3(x1, x2, x3): return dpi(x3)@A31@dpi(x1) \n",
    "    def D32f3(x1, x2, x3): return dpi(x3)@A32@dpi(x2) \n",
    "    def D33f3(x1, x2, x3): return ddpi(x3)@A31@pi(x1)+ ddpi(x3)@A32@pi(x2) \n",
    "    \n",
    "    def simgrad(*x): return np.hstack([D1f1(*x), D2f2(*x), D3f3(*x)])\n",
    "    \n",
    "    return (f1,f2,f3),(D1f1,D2f2,D3f3), \\\n",
    "           ((D11f1,D12f1,D13f1),(D21f2,D22f2,D23f2),(D31f3,D32f3,D33f3)),\\\n",
    "           simgrad \n",
    "\n",
    "\n",
    "\"\"\" Runs test on gradients \"\"\"\n",
    "softmax_temperature = 5.0\n",
    "softmax_shift = 0.5\n",
    "key = random.PRNGKey(0)\n",
    "x = random.normal(key, (3,))\n",
    "#x = np.array([0.1,-0.1,-0.2])\n",
    "x = np.array([.115,.14,-1])\n",
    "costs, gradients, jacobians, simgrad = \\\n",
    "    polymatrix_3p_2a(A12,A21,A13,A31,A23,A32,\n",
    "                     softmax_temperature=softmax_temperature,\n",
    "                     softmax_shift=softmax_shift)\n",
    "pi, dpi, ddpi = \\\n",
    "    softmax_2actions([softmax_temperature, -softmax_temperature], softmax_shift)\n",
    "f1, f2, f3 = costs\n",
    "D1f1, D2f2, D3f3 = gradients\n",
    "assert np.allclose(grad(f1, (0,))(*x)[0], D1f1(*x), atol=1e-5)\n",
    "assert np.allclose(grad(f2, (1,))(*x)[0], D2f2(*x), atol=1e-5)\n",
    "assert np.allclose(grad(f3, (2,))(*x)[0], D3f3(*x), atol=1e-5)\n",
    "\n",
    "J = jacobian(simgrad, (0,1,2))(*x)\n",
    "np.linalg.eigvals(J),J"
   ]
  },
  {
   "cell_type": "code",
   "execution_count": 438,
   "metadata": {},
   "outputs": [
    {
     "data": {
      "text/plain": [
       "(DeviceArray([ 1.918e+01+0.j,  2.743e-03+0.j, -8.612e-04+0.j], dtype=complex64),\n",
       " (DeviceArray([-0.001,  0.   ,  0.   ], dtype=float32),\n",
       "  DeviceArray([2.980e-07, 1.918e+01, 1.441e-03], dtype=float32),\n",
       "  DeviceArray([0.002, 0.   , 0.003], dtype=float32)))"
      ]
     },
     "execution_count": 438,
     "metadata": {},
     "output_type": "execute_result"
    }
   ],
   "source": [
    "simgrad_ =  lambda *x: np.hstack([grad(f1, (0,))(*x)[0],\\\n",
    "                               grad(f1, (1,))(*x)[0], \\\n",
    "                               grad(f2, (2,))(*x)[0]])\n",
    "J = jacobian(simgrad_, (0,1,2))(*x)\n",
    "np.linalg.eigvals(J), J"
   ]
  },
  {
   "cell_type": "code",
   "execution_count": 440,
   "metadata": {},
   "outputs": [
    {
     "data": {
      "text/plain": [
       "(DeviceArray([-0.003+0.001j, -0.003-0.001j, -0.001+0.j   ], dtype=complex64),\n",
       " array([[-8.631e-04, -1.810e-06,  1.659e-03],\n",
       "        [ 8.383e-07, -8.717e-04,  1.441e-03],\n",
       "        [-1.659e-03, -1.441e-03, -5.093e-03]], dtype=float32))"
      ]
     },
     "execution_count": 440,
     "metadata": {},
     "output_type": "execute_result"
    }
   ],
   "source": [
    "import numpy as onp\n",
    "J = onp.block([[j(*x) for j in jac]for jac in jacobians])\n",
    "np.linalg.eigvals(J),J"
   ]
  },
  {
   "cell_type": "code",
   "execution_count": 450,
   "metadata": {},
   "outputs": [],
   "source": [
    "from jax.lax import scan\n",
    "num_iter = 100000\n",
    "x0_1 = np.array([.115,.14,-1])\n",
    "lr = 1e-2\n",
    "lr = np.array([lr,lr,lr])\n",
    "def update(x, t):\n",
    "    x1,x2,x3 = x\n",
    "    g = simgrad(*x)\n",
    "    return np.hstack([x1 - lr[0]*g[0], x2 - lr[1]*g[1], x3 - lr[2]*g[2]]), x\n",
    "xf, x_close = scan(update, x0_1, np.arange(num_iter))"
   ]
  },
  {
   "cell_type": "code",
   "execution_count": 451,
   "metadata": {},
   "outputs": [
    {
     "data": {
      "image/png": "[encoded data removed]",
      "text/plain": [
       "<Figure size 432x288 with 1 Axes>"
      ]
     },
     "metadata": {
      "needs_background": "light"
     },
     "output_type": "display_data"
    }
   ],
   "source": [
    "def plot_pi(x_):\n",
    "    plt.plot(np.arange(num_iter)+1, vmap(pi)(x_[:,0])[:,0])\n",
    "    plt.plot(np.arange(num_iter)+1, vmap(pi)(x_[:,1])[:,0])\n",
    "    plt.plot(np.arange(num_iter)+1, vmap(pi)(x_[:,2])[:,0])\n",
    "    plt.gca().set_prop_cycle(None)\n",
    "    plt.plot([1,num_iter+1], [x_actual[0][0]]*2, '--')\n",
    "    plt.plot([1,num_iter+1], [x_actual[1][0]]*2, '--')\n",
    "    plt.plot([1,num_iter+1], [x_actual[2][0]]*2, '--')\n",
    "    plt.xscale('log')\n",
    "    plt.legend(['Player 1','Player 2','Player 3', \\\n",
    "                'Player 1 (Nash)', 'Player 2 (Nash)', 'Player 3 (Nash)'])\n",
    "    plt.ylabel('Probability of taking the first action')\n",
    "    plt.xlabel('Iterations')\n",
    "plot_pi(x_close)\n",
    "plt.savefig('figs/polymatrix-fail1.png')"
   ]
  },
  {
   "cell_type": "code",
   "execution_count": 447,
   "metadata": {},
   "outputs": [
    {
     "data": {
      "image/png": "[encoded data removed]",
      "text/plain": [
       "<Figure size 432x288 with 1 Axes>"
      ]
     },
     "metadata": {
      "needs_background": "light"
     },
     "output_type": "display_data"
    }
   ],
   "source": [
    "x0_2 = np.array([0.,0.,0.])\n",
    "xf, x_zero = scan(update, x0_2, np.arange(num_iter))\n",
    "plot_pi(x_zero)\n",
    "plt.savefig('figs/polymatrix-fail2.png')"
   ]
  },
  {
   "cell_type": "code",
   "execution_count": 389,
   "metadata": {},
   "outputs": [
    {
     "data": {
      "text/plain": [
       "array([[7.625e-01, 2.375e-01],\n",
       "       [8.022e-01, 1.978e-01],\n",
       "       [2.976e-08, 1.000e+00]])"
      ]
     },
     "execution_count": 389,
     "metadata": {},
     "output_type": "execute_result"
    }
   ],
   "source": [
    "x_actual"
   ]
  },
  {
   "cell_type": "code",
   "execution_count": null,
   "metadata": {},
   "outputs": [],
   "source": []
  }
 ],
 "metadata": {
  "kernelspec": {
   "display_name": "Python [default]",
   "language": "python",
   "name": "python3"
  },
  "language_info": {
   "codemirror_mode": {
    "name": "ipython",
    "version": 3
   },
   "file_extension": ".py",
   "mimetype": "text/x-python",
   "name": "python",
   "nbconvert_exporter": "python",
   "pygments_lexer": "ipython3",
   "version": "3.5.6"
  }
 },
 "nbformat": 4,
 "nbformat_minor": 2
}
