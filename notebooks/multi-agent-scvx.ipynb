{
 "cells": [
  {
   "cell_type": "code",
   "execution_count": 11,
   "metadata": {},
   "outputs": [],
   "source": [
    "import numpy as np\n",
    "import cvxpy as cp\n",
    "import copy\n",
    "import matplotlib.pyplot as plt\n",
    "\n",
    "\n",
    "np.set_printoptions(precision=2)"
   ]
  },
  {
   "cell_type": "markdown",
   "metadata": {},
   "source": [
    "Mao, Y., Szmuk, M., & Acikmese, B. (2018). Successive Convexification: A Superlinearly Convergent Algorithm for Non-convex Optimal Control Problems. arXiv preprint arXiv:1804.06539."
   ]
  },
  {
   "cell_type": "code",
   "execution_count": 12,
   "metadata": {},
   "outputs": [
    {
     "data": {
      "image/png": "[encoded data removed]",
      "text/plain": [
       "<Figure size 216x216 with 1 Axes>"
      ]
     },
     "metadata": {
      "needs_background": "light"
     },
     "output_type": "display_data"
    }
   ],
   "source": [
    "dt, N = 0.1, 30 # Time discretization\n",
    "na = 2 # Number of agents\n",
    "nx = 4 # Number of states per agent\n",
    "nu = 2 # Number of actions per agent\n",
    "nobs = 2\n",
    "\n",
    "# Double integrator\n",
    "_n = int(nx/2)\n",
    "A_np = np.block([[np.eye(_n), dt * np.eye(_n)],\n",
    "                 [np.zeros((_n,_n)), np.eye(_n)]])\n",
    "\n",
    "B_np = np.block([[0.5*dt**2 * np.eye(_n)], \n",
    "                 [dt*np.eye(_n)]])\n",
    "\n",
    "T = np.block([np.eye(2), np.zeros((2,2))])\n",
    "\n",
    "# Quadratic costs\n",
    "Q_np = np.eye(nx)\n",
    "R_np = np.eye(nu)\n",
    "\n",
    "x_inits = [np.array([-1,0,0,0]), np.array([0,-1,0,0])]\n",
    "x_dess  = [np.array([1,0,0,0]), np.array([0,1,0,0])]\n",
    "\n",
    "# State and control constraints\n",
    "u_max = 2\n",
    "ns = nobs + na - 1\n",
    "\n",
    "# Obstacles\n",
    "__x_obs = [np.array([-0.4,  0.2]), np.array([ 0.6, -0.2])]#, np.array([0.,0])]\n",
    "__r_obs = [np.array([0.2]), np.array([0.2])]#, np.array([.1])]\n",
    "r_buffer = .1\n",
    "nobs = len(__x_obs)\n",
    "\n",
    "x_obs = [copy.deepcopy(__x_obs) for i in range(N)]\n",
    "r_obs = [copy.deepcopy(__r_obs) for i in range(N)]\n",
    "\n",
    "def setup_fig(x_obs, r_obs, x_des, x_init):\n",
    "    fig, ax = plt.subplots(figsize=(3,3))\n",
    "    plt.plot(*x_des[:2],'^',label='destination')\n",
    "    plt.plot(*x_init[:2],'*',label='initial')\n",
    "    _t = np.linspace(0,2*np.pi,25)\n",
    "    for i in range(N):\n",
    "        for j in range(nobs):\n",
    "            _circ = plt.Circle(x_obs[i][j], r_obs[i][j], color='k', alpha=1)\n",
    "            ax.add_artist(_circ)\n",
    "        for j in range(nobs,ns):\n",
    "            plt.plot(r_obs[i][j] * np.cos(_t) + x_obs[i][j][0], r_obs[i][j] * np.sin(_t) + x_obs[i][j][1],'--k')\n",
    "#     plt.legend()\n",
    "    plt.xlim([-1.1,1.1])\n",
    "    plt.ylim([-1.1,1.1])\n",
    "    \n",
    "def append_obs(x_obs, r_obs, xs, r):\n",
    "    x_obs = copy.deepcopy(x_obs)\n",
    "    r_obs = copy.deepcopy(r_obs)\n",
    "    _n = len(xs)\n",
    "    for i in range(N):\n",
    "        x_obs[i] += [xs[k][i] for k in range(_n)]\n",
    "        r_obs[i] += [np.array([r]) for k in range(_n)]\n",
    "    return x_obs, r_obs\n",
    "\n",
    "    \n",
    "_x_a = [np.ones((N,2))*x_obs[0][0] for _ in range(na-1)]\n",
    "_x_obs, _r_obs = append_obs(x_obs, r_obs, _x_a, r_buffer)\n",
    "\n",
    "setup_fig(_x_obs, _r_obs, x_inits[0], x_dess[0])\n",
    "plt.show()"
   ]
  },
  {
   "cell_type": "markdown",
   "metadata": {},
   "source": [
    "$$L ^ { k } ( d , w ) : = C \\left( x ^ { k } + d , u ^ { k } + w \\right) + \\sum _ { i = 1 } ^ { N - 1 } \\lambda _ { i } P \\left( E _ { i } v _ { i } , s _ { i } ^ { \\prime } \\right)$$"
   ]
  },
  {
   "cell_type": "code",
   "execution_count": 13,
   "metadata": {},
   "outputs": [],
   "source": [
    "''' Successive Convexification: SCvx '''\n",
    "\n",
    "''' Define costs '''\n",
    "\n",
    "cost = lambda x,u: sum([cp.quad_form(x[i],Q_np) + cp.quad_form(u[i],R_np) \n",
    "                        for i in range(N-1)]) + cp.quad_form(x[-1],Q_np)\n",
    "cost_np = lambda x,u: sum([x[i].T @ Q_np @ x[i] + u[i].T @ R_np @ u[i] \n",
    "                           for i in range(N-1)]) + x[-1].T @ Q_np @ x[-1]\n",
    "\n",
    "cost = lambda x,u: sum([cp.quad_form(u[i],R_np) \n",
    "                        for i in range(N-1)])\n",
    "cost_np = lambda x,u: sum([u[i].T @ R_np @ u[i] \n",
    "                           for i in range(N-1)])\n",
    "\n",
    "''' Non-convex dynamics and constraints '''\n",
    "f = lambda xi,ui: A_np @ xi + B_np @ ui\n",
    "\n",
    "nv = nx\n",
    "ns = nobs + na - 1\n",
    "nq = 1\n",
    "E = np.eye(nx) #np.zeros((nx,nv))\n",
    "λ = 1e8*np.ones((N-1))\n",
    "\n",
    "\n",
    "d = cp.Variable((N,nx))\n",
    "w = cp.Variable((N-1,nu))\n",
    "v = cp.Variable((N-1,nv))\n",
    "sp = cp.Variable((N-1,ns))\n",
    "\n",
    "xN = cp.Parameter((nx))\n",
    "x = cp.Parameter((N,nx))\n",
    "u = cp.Parameter((N-1,nu))\n",
    "trust = cp.Parameter()\n",
    "s_true = cp.Parameter((N-1,ns))\n",
    "f_xu = cp.Parameter((N-1, nx))\n",
    "\n",
    "A = [cp.Parameter((nx, nx)) for _ in range(N-1)]\n",
    "B = [cp.Parameter((nx, nu)) for _ in range(N-1)]\n",
    "S = [cp.Parameter((ns, nx)) for _ in range(N-1)]\n",
    "Q = [cp.Parameter((nq, nu)) for _ in range(N-1)]\n",
    "\n",
    "x.value = np.zeros((N,nx))\n",
    "u.value = np.zeros((N-1,nu))\n",
    "f_xu.value = np.zeros((N-1,nx))\n",
    "\n",
    "penality_constraint = lambda x: cp.sum(cp.pos(x))\n",
    "penality_constraint_np = lambda x: np.sum(np.maximum(0,x))\n",
    "penality_dynamics = lambda x: cp.sum(cp.abs(x))\n",
    "penality_dynamics_np = lambda x: np.sum(np.abs(x))\n",
    "\n",
    "# Loss function with penality\n",
    "PL = [penality_dynamics(E @ v[i]) + penality_constraint(sp[i]) for i in range(N-1)]\n",
    "L = cost(x+d,u+w) + cp.sum([λ[i] * PL[i] for i in range(N-1)])\n",
    "\n",
    "constraints = []\n",
    "\n",
    "# Initial and final states\n",
    "constraints += [d[0] == np.zeros((nx))] # initial state info already in x\n",
    "constraints += [x[-1] + d[-1] == xN]\n",
    "\n",
    "# Covexified dynamics and state constraints\n",
    "constraints += [x[i+1] + d[i+1] == f_xu[i] + A[i] @ d[i] + B[i] @ w[i] + E @ v[i]\n",
    "                 for i in range(N-1)]\n",
    "constraints += [s_true[i] + S[i] @ d[i] + Q[i] @ w[i] - sp[i] <= 0 \n",
    "                  for i in range(N-1)]\n",
    "constraints += [sp[i] >= 0 for i in range(N-1)]\n",
    "#constraints += [cp.abs(u[i] + w[i]) <= u_max for i in range(N-1)]\n",
    "# Trust region\n",
    "constraints += [sum([cp.norm(w[i],2) + cp.norm(d[i],2) for i in range(N-1)]) <= trust ]"
   ]
  },
  {
   "cell_type": "code",
   "execution_count": 14,
   "metadata": {},
   "outputs": [],
   "source": [
    "\n",
    "\n",
    "def cvx(x_init, x_des):\n",
    "    x.value[0] = x_init\n",
    "    xN.value = x_des\n",
    "    for i in range(N-1):\n",
    "        A[i].value = A_np # (nx, nx)\n",
    "        B[i].value = B_np # (nx, nu)\n",
    "        S[i].value = np.zeros((ns, nx))\n",
    "        Q[i].value = np.zeros((nq, nu))\n",
    "        f_xu.value[i] = np.zeros((nx))\n",
    "    s_true.value = np.zeros((N-1,ns))\n",
    "    trust.value = 10000\n",
    "    prob = cp.Problem(cp.Minimize(L), constraints)\n",
    "    sol = prob.solve(solver='SCS') \n",
    "    \n",
    "    return copy.copy(x.value+d.value), copy.copy(u.value+w.value) \n",
    "  "
   ]
  },
  {
   "cell_type": "code",
   "execution_count": 15,
   "metadata": {},
   "outputs": [],
   "source": [
    "config_scvx_default = dict(\n",
    "    ρ0 = 0,\n",
    "    ρ1 = .25,\n",
    "    ρ2 = .8,\n",
    "    r0 = 1,\n",
    "    α = 2,\n",
    "    β = 3.2,\n",
    "    tol = 1e-1,\n",
    "    pen_tol = 1e-4,\n",
    "    num_iters = 100)\n",
    "\n",
    "def scvx(x_init, x_des, x_obs, r_obs, \\\n",
    "         ρ0, ρ1,  ρ2,  r0,  α ,  β , tol, pen_tol, num_iters, \\\n",
    "         _x=np.zeros((N,nx)), _u=np.zeros((N-1,nu)), trial=0, ):\n",
    "    r = [r0]\n",
    "    ρ = [ρ0]\n",
    "    \n",
    "    x.value = _x\n",
    "    u.value = _u\n",
    "    \n",
    "    x.value[0] = x_init\n",
    "    xN.value = x_des\n",
    "    for _i in range(num_iters):\n",
    "        print('---')\n",
    "        ''' Step 1: Solve Problem 2'''\n",
    "        # Evaluate zeroth order and first order at current (x^k,u^k)\n",
    "        s_helper = lambda i,j,x,u: -(np.linalg.norm(T @ x[i] - x_obs[i][j])**2 - (r_obs[i][j] + r_buffer)**2)\n",
    "        ds_helper = lambda i,j,x,u: -2*T.T @ (T @ x[i] - x_obs[i][j])\n",
    "\n",
    "        s = lambda x,u: np.block([[s_helper(i, j, x, u) for j in range(ns)] # or x[i+1]?\n",
    "                                                           for i in range(N-1)])\n",
    "        ds = lambda i,x,u: np.block([[ds_helper(i, j, x, u)] for j in range(ns)])\n",
    "        s_np = s(x.value, u.value)\n",
    "        ds_np = [ds(i, x.value, u.value) for i in range(N-1)]\n",
    "\n",
    "        # Set linearized parameters\n",
    "        s_true.value = s_np\n",
    "        for i in range(N-1):\n",
    "            A[i].value = A_np\n",
    "            B[i].value = B_np\n",
    "            S[i].value = ds_np[i]\n",
    "            Q[i].value = np.zeros((nq,nu))\n",
    "            f_xu.value[i] = f(x.value[i], u.value[i]) \n",
    "        trust.value = r[-1]\n",
    "\n",
    "        prob = cp.Problem(cp.Minimize(L), constraints)\n",
    "        sol = prob.solve(solver='SCS',warm_start= True if _i != 0 else False)\n",
    "        print('status', prob.status)\n",
    "\n",
    "        ''' Step 2: actual and predicted change '''\n",
    "        PJ = lambda x,u: [penality_dynamics_np(x[i+1] - f(x[i],u[i])) + penality_constraint_np(s_np[i]) \n",
    "                          for i in range(N-1)]\n",
    "\n",
    "        J = lambda x,u: cost_np(x,u) + sum([λ[i] * _pj[i]\n",
    "                                            for i in range(N-1)\n",
    "                                            for _pj in [PJ(x,u)]])\n",
    "\n",
    "        # Actual change\n",
    "        DJ = J(x.value, u.value) - J(x.value + d.value, u.value + w.value)\n",
    "        DL = J(x.value, u.value) - L.value\n",
    "\n",
    "        _penality = sum(PJ(x.value, u.value))\n",
    "        print('DL:          ',DL)\n",
    "        print('actual cost: ', cost_np(x.value, u.value))\n",
    "        print('penality     ', _penality)\n",
    "\n",
    "        if np.allclose(DL, 0, rtol=tol, atol=tol) and \\\n",
    "           np.allclose(_penality, 0, rtol=pen_tol, atol=pen_tol): break\n",
    "        ρ.append(DJ/DL)\n",
    "\n",
    "        ''' Step 3: reject or accept  or exapand trust region'''\n",
    "        if ρ[-1] < ρ0: # Reject \n",
    "            _r = r[-1]/α\n",
    "            print(\"Reject %.2e -> %.2e\" %(r[-1], _r))\n",
    "        else: # Accept\n",
    "            x.value += d.value\n",
    "            u.value += w.value\n",
    "            if ρ[-1] < ρ1:    _r = r[-1]/α\n",
    "            elif ρ[-1] >= ρ2: _r = β * r[-1]\n",
    "            else:             _r = r[-1]\n",
    "            print(\"Accept: %.2e -> %.2e\" %(r[-1], _r))\n",
    "\n",
    "            setup_fig(x_obs, r_obs, x_init, x_des)\n",
    "            plt.plot(x.value[:,0] + d.value[:,0], x.value[:,1] +  d.value[:,1],'o-', ms=10)\n",
    "            plt.title('SCVX (Iteration {:d}{:03d})'.format(trial,_i))\n",
    "            plt.savefig('figs/scvx/scvx_{:d}{:03d}.png'.format(trial,_i))\n",
    "            plt.show()\n",
    "\n",
    "        r.append(_r)\n",
    "\n",
    "    return copy.copy(x.value), copy.copy(u.value), r[-1]"
   ]
  },
  {
   "cell_type": "code",
   "execution_count": 17,
   "metadata": {},
   "outputs": [
    {
     "name": "stdout",
     "output_type": "stream",
     "text": [
      "---\n",
      "status optimal\n",
      "DL:           -7613475.379069805\n",
      "actual cost:  212.0555624372878\n",
      "penality      20.18517219602255\n",
      "Accept: 1.00e-01 -> 2.00e-01\n"
     ]
    },
    {
     "data": {
      "image/png": "[encoded data removed]",
      "text/plain": [
       "<Figure size 216x216 with 1 Axes>"
      ]
     },
     "metadata": {
      "needs_background": "light"
     },
     "output_type": "display_data"
    },
    {
     "name": "stdout",
     "output_type": "stream",
     "text": [
      "---\n",
      "status optimal\n",
      "DL:           45106573.470351934\n",
      "actual cost:  212.05259663935314\n",
      "penality      20.26028234096555\n",
      "Accept: 2.00e-01 -> 4.00e-01\n"
     ]
    },
    {
     "data": {
      "image/png": "[encoded data removed]",
      "text/plain": [
       "<Figure size 216x216 with 1 Axes>"
      ]
     },
     "metadata": {
      "needs_background": "light"
     },
     "output_type": "display_data"
    },
    {
     "name": "stdout",
     "output_type": "stream",
     "text": [
      "---\n",
      "status optimal\n",
      "DL:           80358593.75366068\n",
      "actual cost:  212.0538218168733\n",
      "penality      19.805442401220684\n",
      "Accept: 4.00e-01 -> 8.00e-01\n"
     ]
    },
    {
     "data": {
      "image/png": "[encoded data removed]",
      "text/plain": [
       "<Figure size 216x216 with 1 Axes>"
      ]
     },
     "metadata": {
      "needs_background": "light"
     },
     "output_type": "display_data"
    },
    {
     "name": "stdout",
     "output_type": "stream",
     "text": [
      "---\n"
     ]
    },
    {
     "ename": "KeyboardInterrupt",
     "evalue": "",
     "output_type": "error",
     "traceback": [
      "\u001b[0;31m---------------------------------------------------------------------------\u001b[0m",
      "\u001b[0;31mKeyboardInterrupt\u001b[0m                         Traceback (most recent call last)",
      "\u001b[0;32m<ipython-input-17-9b79f84d4b4a>\u001b[0m in \u001b[0;36m<module>\u001b[0;34m\u001b[0m\n\u001b[1;32m     17\u001b[0m     \u001b[0m_x\u001b[0m\u001b[0;34m,\u001b[0m \u001b[0m_u\u001b[0m \u001b[0;34m=\u001b[0m \u001b[0mcvx\u001b[0m\u001b[0;34m(\u001b[0m\u001b[0mx_inits\u001b[0m\u001b[0;34m[\u001b[0m\u001b[0mk\u001b[0m\u001b[0;34m]\u001b[0m\u001b[0;34m,\u001b[0m \u001b[0mx_dess\u001b[0m\u001b[0;34m[\u001b[0m\u001b[0mk\u001b[0m\u001b[0;34m]\u001b[0m\u001b[0;34m)\u001b[0m\u001b[0;34m\u001b[0m\u001b[0;34m\u001b[0m\u001b[0m\n\u001b[1;32m     18\u001b[0m     _x, _u, _r = scvx(x_inits[k], x_dess[k], _x_obs, _r_obs, \n\u001b[0;32m---> 19\u001b[0;31m                       _x=_x, _u=_u, trial=k, **config_scvx)\n\u001b[0m",
      "\u001b[0;32m<ipython-input-15-989dcca54c08>\u001b[0m in \u001b[0;36mscvx\u001b[0;34m(x_init, x_des, x_obs, r_obs, ρ0, ρ1, ρ2, r0, α, β, tol, pen_tol, num_iters, _x, _u, trial)\u001b[0m\n\u001b[1;32m     45\u001b[0m \u001b[0;34m\u001b[0m\u001b[0m\n\u001b[1;32m     46\u001b[0m         \u001b[0mprob\u001b[0m \u001b[0;34m=\u001b[0m \u001b[0mcp\u001b[0m\u001b[0;34m.\u001b[0m\u001b[0mProblem\u001b[0m\u001b[0;34m(\u001b[0m\u001b[0mcp\u001b[0m\u001b[0;34m.\u001b[0m\u001b[0mMinimize\u001b[0m\u001b[0;34m(\u001b[0m\u001b[0mL\u001b[0m\u001b[0;34m)\u001b[0m\u001b[0;34m,\u001b[0m \u001b[0mconstraints\u001b[0m\u001b[0;34m)\u001b[0m\u001b[0;34m\u001b[0m\u001b[0;34m\u001b[0m\u001b[0m\n\u001b[0;32m---> 47\u001b[0;31m         \u001b[0msol\u001b[0m \u001b[0;34m=\u001b[0m \u001b[0mprob\u001b[0m\u001b[0;34m.\u001b[0m\u001b[0msolve\u001b[0m\u001b[0;34m(\u001b[0m\u001b[0msolver\u001b[0m\u001b[0;34m=\u001b[0m\u001b[0;34m'SCS'\u001b[0m\u001b[0;34m,\u001b[0m\u001b[0mwarm_start\u001b[0m\u001b[0;34m=\u001b[0m \u001b[0;32mTrue\u001b[0m \u001b[0;32mif\u001b[0m \u001b[0m_i\u001b[0m \u001b[0;34m!=\u001b[0m \u001b[0;36m0\u001b[0m \u001b[0;32melse\u001b[0m \u001b[0;32mFalse\u001b[0m\u001b[0;34m)\u001b[0m\u001b[0;34m\u001b[0m\u001b[0;34m\u001b[0m\u001b[0m\n\u001b[0m\u001b[1;32m     48\u001b[0m         \u001b[0mprint\u001b[0m\u001b[0;34m(\u001b[0m\u001b[0;34m'status'\u001b[0m\u001b[0;34m,\u001b[0m \u001b[0mprob\u001b[0m\u001b[0;34m.\u001b[0m\u001b[0mstatus\u001b[0m\u001b[0;34m)\u001b[0m\u001b[0;34m\u001b[0m\u001b[0;34m\u001b[0m\u001b[0m\n\u001b[1;32m     49\u001b[0m \u001b[0;34m\u001b[0m\u001b[0m\n",
      "\u001b[0;32m~/anaconda3/envs/py37cvxpy/lib/python3.7/site-packages/cvxpy-1.1.0a1-py3.7-macosx-10.7-x86_64.egg/cvxpy/problems/problem.py\u001b[0m in \u001b[0;36msolve\u001b[0;34m(self, *args, **kwargs)\u001b[0m\n\u001b[1;32m    307\u001b[0m         \u001b[0;32melse\u001b[0m\u001b[0;34m:\u001b[0m\u001b[0;34m\u001b[0m\u001b[0;34m\u001b[0m\u001b[0m\n\u001b[1;32m    308\u001b[0m             \u001b[0msolve_func\u001b[0m \u001b[0;34m=\u001b[0m \u001b[0mProblem\u001b[0m\u001b[0;34m.\u001b[0m\u001b[0m_solve\u001b[0m\u001b[0;34m\u001b[0m\u001b[0;34m\u001b[0m\u001b[0m\n\u001b[0;32m--> 309\u001b[0;31m         \u001b[0;32mreturn\u001b[0m \u001b[0msolve_func\u001b[0m\u001b[0;34m(\u001b[0m\u001b[0mself\u001b[0m\u001b[0;34m,\u001b[0m \u001b[0;34m*\u001b[0m\u001b[0margs\u001b[0m\u001b[0;34m,\u001b[0m \u001b[0;34m**\u001b[0m\u001b[0mkwargs\u001b[0m\u001b[0;34m)\u001b[0m\u001b[0;34m\u001b[0m\u001b[0;34m\u001b[0m\u001b[0m\n\u001b[0m\u001b[1;32m    310\u001b[0m \u001b[0;34m\u001b[0m\u001b[0m\n\u001b[1;32m    311\u001b[0m     \u001b[0;34m@\u001b[0m\u001b[0mclassmethod\u001b[0m\u001b[0;34m\u001b[0m\u001b[0;34m\u001b[0m\u001b[0m\n",
      "\u001b[0;32m~/anaconda3/envs/py37cvxpy/lib/python3.7/site-packages/cvxpy-1.1.0a1-py3.7-macosx-10.7-x86_64.egg/cvxpy/problems/problem.py\u001b[0m in \u001b[0;36m_solve\u001b[0;34m(self, solver, warm_start, verbose, gp, qcp, requires_grad, **kwargs)\u001b[0m\n\u001b[1;32m    621\u001b[0m                 \u001b[0;32mreturn\u001b[0m \u001b[0mself\u001b[0m\u001b[0;34m.\u001b[0m\u001b[0mvalue\u001b[0m\u001b[0;34m\u001b[0m\u001b[0;34m\u001b[0m\u001b[0m\n\u001b[1;32m    622\u001b[0m \u001b[0;34m\u001b[0m\u001b[0m\n\u001b[0;32m--> 623\u001b[0;31m         \u001b[0mdata\u001b[0m\u001b[0;34m,\u001b[0m \u001b[0msolving_chain\u001b[0m\u001b[0;34m,\u001b[0m \u001b[0minverse_data\u001b[0m \u001b[0;34m=\u001b[0m \u001b[0mself\u001b[0m\u001b[0;34m.\u001b[0m\u001b[0mget_problem_data\u001b[0m\u001b[0;34m(\u001b[0m\u001b[0msolver\u001b[0m\u001b[0;34m,\u001b[0m \u001b[0mgp\u001b[0m\u001b[0;34m)\u001b[0m\u001b[0;34m\u001b[0m\u001b[0;34m\u001b[0m\u001b[0m\n\u001b[0m\u001b[1;32m    624\u001b[0m         solution = solving_chain.solve_via_data(\n\u001b[1;32m    625\u001b[0m             self, data, warm_start, verbose, kwargs)\n",
      "\u001b[0;32m~/anaconda3/envs/py37cvxpy/lib/python3.7/site-packages/cvxpy-1.1.0a1-py3.7-macosx-10.7-x86_64.egg/cvxpy/problems/problem.py\u001b[0m in \u001b[0;36mget_problem_data\u001b[0;34m(self, solver, gp)\u001b[0m\n\u001b[1;32m    420\u001b[0m             \u001b[0minverse_data\u001b[0m \u001b[0;34m=\u001b[0m \u001b[0mself\u001b[0m\u001b[0;34m.\u001b[0m\u001b[0m_cache\u001b[0m\u001b[0;34m.\u001b[0m\u001b[0minverse_data\u001b[0m \u001b[0;34m+\u001b[0m \u001b[0;34m[\u001b[0m\u001b[0msolver_inverse_data\u001b[0m\u001b[0;34m]\u001b[0m\u001b[0;34m\u001b[0m\u001b[0;34m\u001b[0m\u001b[0m\n\u001b[1;32m    421\u001b[0m         \u001b[0;32melse\u001b[0m\u001b[0;34m:\u001b[0m\u001b[0;34m\u001b[0m\u001b[0;34m\u001b[0m\u001b[0m\n\u001b[0;32m--> 422\u001b[0;31m             \u001b[0mdata\u001b[0m\u001b[0;34m,\u001b[0m \u001b[0minverse_data\u001b[0m \u001b[0;34m=\u001b[0m \u001b[0msolving_chain\u001b[0m\u001b[0;34m.\u001b[0m\u001b[0mapply\u001b[0m\u001b[0;34m(\u001b[0m\u001b[0mself\u001b[0m\u001b[0;34m)\u001b[0m\u001b[0;34m\u001b[0m\u001b[0;34m\u001b[0m\u001b[0m\n\u001b[0m\u001b[1;32m    423\u001b[0m             safe_to_cache = (\n\u001b[1;32m    424\u001b[0m                 \u001b[0misinstance\u001b[0m\u001b[0;34m(\u001b[0m\u001b[0mdata\u001b[0m\u001b[0;34m,\u001b[0m \u001b[0mdict\u001b[0m\u001b[0;34m)\u001b[0m\u001b[0;34m\u001b[0m\u001b[0;34m\u001b[0m\u001b[0m\n",
      "\u001b[0;32m~/anaconda3/envs/py37cvxpy/lib/python3.7/site-packages/cvxpy-1.1.0a1-py3.7-macosx-10.7-x86_64.egg/cvxpy/reductions/chain.py\u001b[0m in \u001b[0;36mapply\u001b[0;34m(self, problem)\u001b[0m\n\u001b[1;32m     63\u001b[0m         \u001b[0minverse_data\u001b[0m \u001b[0;34m=\u001b[0m \u001b[0;34m[\u001b[0m\u001b[0;34m]\u001b[0m\u001b[0;34m\u001b[0m\u001b[0;34m\u001b[0m\u001b[0m\n\u001b[1;32m     64\u001b[0m         \u001b[0;32mfor\u001b[0m \u001b[0mr\u001b[0m \u001b[0;32min\u001b[0m \u001b[0mself\u001b[0m\u001b[0;34m.\u001b[0m\u001b[0mreductions\u001b[0m\u001b[0;34m:\u001b[0m\u001b[0;34m\u001b[0m\u001b[0;34m\u001b[0m\u001b[0m\n\u001b[0;32m---> 65\u001b[0;31m             \u001b[0mproblem\u001b[0m\u001b[0;34m,\u001b[0m \u001b[0minv\u001b[0m \u001b[0;34m=\u001b[0m \u001b[0mr\u001b[0m\u001b[0;34m.\u001b[0m\u001b[0mapply\u001b[0m\u001b[0;34m(\u001b[0m\u001b[0mproblem\u001b[0m\u001b[0;34m)\u001b[0m\u001b[0;34m\u001b[0m\u001b[0;34m\u001b[0m\u001b[0m\n\u001b[0m\u001b[1;32m     66\u001b[0m             \u001b[0minverse_data\u001b[0m\u001b[0;34m.\u001b[0m\u001b[0mappend\u001b[0m\u001b[0;34m(\u001b[0m\u001b[0minv\u001b[0m\u001b[0;34m)\u001b[0m\u001b[0;34m\u001b[0m\u001b[0;34m\u001b[0m\u001b[0m\n\u001b[1;32m     67\u001b[0m         \u001b[0;32mreturn\u001b[0m \u001b[0mproblem\u001b[0m\u001b[0;34m,\u001b[0m \u001b[0minverse_data\u001b[0m\u001b[0;34m\u001b[0m\u001b[0;34m\u001b[0m\u001b[0m\n",
      "\u001b[0;32m~/anaconda3/envs/py37cvxpy/lib/python3.7/site-packages/cvxpy-1.1.0a1-py3.7-macosx-10.7-x86_64.egg/cvxpy/reductions/solvers/conic_solvers/scs_conif.py\u001b[0m in \u001b[0;36mapply\u001b[0;34m(self, problem)\u001b[0m\n\u001b[1;32m    205\u001b[0m             \u001b[0;34m(\u001b[0m\u001b[0mdict\u001b[0m \u001b[0mof\u001b[0m \u001b[0marguments\u001b[0m \u001b[0mneeded\u001b[0m \u001b[0;32mfor\u001b[0m \u001b[0mthe\u001b[0m \u001b[0msolver\u001b[0m\u001b[0;34m,\u001b[0m \u001b[0minverse\u001b[0m \u001b[0mdata\u001b[0m\u001b[0;34m)\u001b[0m\u001b[0;34m\u001b[0m\u001b[0;34m\u001b[0m\u001b[0m\n\u001b[1;32m    206\u001b[0m         \"\"\"\n\u001b[0;32m--> 207\u001b[0;31m         \u001b[0mproblem\u001b[0m\u001b[0;34m,\u001b[0m \u001b[0mdata\u001b[0m\u001b[0;34m,\u001b[0m \u001b[0minv_data\u001b[0m \u001b[0;34m=\u001b[0m \u001b[0mself\u001b[0m\u001b[0;34m.\u001b[0m\u001b[0m_prepare_data_and_inv_data\u001b[0m\u001b[0;34m(\u001b[0m\u001b[0mproblem\u001b[0m\u001b[0;34m)\u001b[0m\u001b[0;34m\u001b[0m\u001b[0;34m\u001b[0m\u001b[0m\n\u001b[0m\u001b[1;32m    208\u001b[0m \u001b[0;34m\u001b[0m\u001b[0m\n\u001b[1;32m    209\u001b[0m         \u001b[0;31m# Apply parameter values.\u001b[0m\u001b[0;34m\u001b[0m\u001b[0;34m\u001b[0m\u001b[0;34m\u001b[0m\u001b[0m\n",
      "\u001b[0;32m~/anaconda3/envs/py37cvxpy/lib/python3.7/site-packages/cvxpy-1.1.0a1-py3.7-macosx-10.7-x86_64.egg/cvxpy/reductions/solvers/conic_solvers/scs_conif.py\u001b[0m in \u001b[0;36m_prepare_data_and_inv_data\u001b[0;34m(self, problem)\u001b[0m\n\u001b[1;32m    193\u001b[0m \u001b[0;34m\u001b[0m\u001b[0m\n\u001b[1;32m    194\u001b[0m         \u001b[0;32mif\u001b[0m \u001b[0;32mnot\u001b[0m \u001b[0mproblem\u001b[0m\u001b[0;34m.\u001b[0m\u001b[0mformatted\u001b[0m\u001b[0;34m:\u001b[0m\u001b[0;34m\u001b[0m\u001b[0;34m\u001b[0m\u001b[0m\n\u001b[0;32m--> 195\u001b[0;31m             \u001b[0mproblem\u001b[0m \u001b[0;34m=\u001b[0m \u001b[0mself\u001b[0m\u001b[0;34m.\u001b[0m\u001b[0mformat_constraints\u001b[0m\u001b[0;34m(\u001b[0m\u001b[0mproblem\u001b[0m\u001b[0;34m,\u001b[0m \u001b[0mself\u001b[0m\u001b[0;34m.\u001b[0m\u001b[0mEXP_CONE_ORDER\u001b[0m\u001b[0;34m)\u001b[0m\u001b[0;34m\u001b[0m\u001b[0;34m\u001b[0m\u001b[0m\n\u001b[0m\u001b[1;32m    196\u001b[0m         \u001b[0mdata\u001b[0m\u001b[0;34m[\u001b[0m\u001b[0ms\u001b[0m\u001b[0;34m.\u001b[0m\u001b[0mPARAM_PROB\u001b[0m\u001b[0;34m]\u001b[0m \u001b[0;34m=\u001b[0m \u001b[0mproblem\u001b[0m\u001b[0;34m\u001b[0m\u001b[0;34m\u001b[0m\u001b[0m\n\u001b[1;32m    197\u001b[0m         \u001b[0;32mreturn\u001b[0m \u001b[0mproblem\u001b[0m\u001b[0;34m,\u001b[0m \u001b[0mdata\u001b[0m\u001b[0;34m,\u001b[0m \u001b[0minv_data\u001b[0m\u001b[0;34m\u001b[0m\u001b[0;34m\u001b[0m\u001b[0m\n",
      "\u001b[0;32m~/anaconda3/envs/py37cvxpy/lib/python3.7/site-packages/cvxpy-1.1.0a1-py3.7-macosx-10.7-x86_64.egg/cvxpy/reductions/solvers/conic_solvers/conic_solver.py\u001b[0m in \u001b[0;36mformat_constraints\u001b[0;34m(self, problem, exp_cone_order)\u001b[0m\n\u001b[1;32m    270\u001b[0m             \u001b[0;31m#    restruct_A = restruct_mat_rep * problem.A\u001b[0m\u001b[0;34m\u001b[0m\u001b[0;34m\u001b[0m\u001b[0;34m\u001b[0m\u001b[0m\n\u001b[1;32m    271\u001b[0m             \u001b[0mreshaped_A\u001b[0m \u001b[0;34m=\u001b[0m \u001b[0mproblem\u001b[0m\u001b[0;34m.\u001b[0m\u001b[0mA\u001b[0m\u001b[0;34m.\u001b[0m\u001b[0mreshape\u001b[0m\u001b[0;34m(\u001b[0m\u001b[0mrestruct_mat\u001b[0m\u001b[0;34m.\u001b[0m\u001b[0mshape\u001b[0m\u001b[0;34m[\u001b[0m\u001b[0;36m1\u001b[0m\u001b[0;34m]\u001b[0m\u001b[0;34m,\u001b[0m \u001b[0;34m-\u001b[0m\u001b[0;36m1\u001b[0m\u001b[0;34m,\u001b[0m \u001b[0morder\u001b[0m\u001b[0;34m=\u001b[0m\u001b[0;34m'F'\u001b[0m\u001b[0;34m)\u001b[0m\u001b[0;34m.\u001b[0m\u001b[0mtocsr\u001b[0m\u001b[0;34m(\u001b[0m\u001b[0;34m)\u001b[0m\u001b[0;34m\u001b[0m\u001b[0;34m\u001b[0m\u001b[0m\n\u001b[0;32m--> 272\u001b[0;31m             \u001b[0mrestructured_A\u001b[0m \u001b[0;34m=\u001b[0m \u001b[0mrestruct_mat\u001b[0m\u001b[0;34m(\u001b[0m\u001b[0mreshaped_A\u001b[0m\u001b[0;34m)\u001b[0m\u001b[0;34m.\u001b[0m\u001b[0mtocoo\u001b[0m\u001b[0;34m(\u001b[0m\u001b[0;34m)\u001b[0m\u001b[0;34m\u001b[0m\u001b[0;34m\u001b[0m\u001b[0m\n\u001b[0m\u001b[1;32m    273\u001b[0m             \u001b[0;31m# Because of a bug in scipy versions <  1.20, `reshape`\u001b[0m\u001b[0;34m\u001b[0m\u001b[0;34m\u001b[0m\u001b[0;34m\u001b[0m\u001b[0m\n\u001b[1;32m    274\u001b[0m             \u001b[0;31m# can overflow if indices are int32s.\u001b[0m\u001b[0;34m\u001b[0m\u001b[0;34m\u001b[0m\u001b[0;34m\u001b[0m\u001b[0m\n",
      "\u001b[0;32m~/anaconda3/envs/py37cvxpy/lib/python3.7/site-packages/cvxpy-1.1.0a1-py3.7-macosx-10.7-x86_64.egg/cvxpy/reductions/solvers/conic_solvers/conic_solver.py\u001b[0m in \u001b[0;36m__call__\u001b[0;34m(self, X)\u001b[0m\n\u001b[1;32m     96\u001b[0m \u001b[0;34m\u001b[0m\u001b[0m\n\u001b[1;32m     97\u001b[0m     \u001b[0;32mdef\u001b[0m \u001b[0m__call__\u001b[0m\u001b[0;34m(\u001b[0m\u001b[0mself\u001b[0m\u001b[0;34m,\u001b[0m \u001b[0mX\u001b[0m\u001b[0;34m)\u001b[0m\u001b[0;34m:\u001b[0m\u001b[0;34m\u001b[0m\u001b[0;34m\u001b[0m\u001b[0m\n\u001b[0;32m---> 98\u001b[0;31m         \u001b[0;32mreturn\u001b[0m \u001b[0mself\u001b[0m\u001b[0;34m.\u001b[0m\u001b[0m_matmul\u001b[0m\u001b[0;34m(\u001b[0m\u001b[0mX\u001b[0m\u001b[0;34m)\u001b[0m\u001b[0;34m\u001b[0m\u001b[0;34m\u001b[0m\u001b[0m\n\u001b[0m\u001b[1;32m     99\u001b[0m \u001b[0;34m\u001b[0m\u001b[0m\n\u001b[1;32m    100\u001b[0m \u001b[0;34m\u001b[0m\u001b[0m\n",
      "\u001b[0;32m~/anaconda3/envs/py37cvxpy/lib/python3.7/site-packages/cvxpy-1.1.0a1-py3.7-macosx-10.7-x86_64.egg/cvxpy/reductions/solvers/conic_solvers/conic_solver.py\u001b[0m in \u001b[0;36mmatmul\u001b[0;34m(X)\u001b[0m\n\u001b[1;32m    117\u001b[0m         \u001b[0moutputs\u001b[0m \u001b[0;34m=\u001b[0m \u001b[0;34m[\u001b[0m\u001b[0;34m]\u001b[0m\u001b[0;34m\u001b[0m\u001b[0;34m\u001b[0m\u001b[0m\n\u001b[1;32m    118\u001b[0m         \u001b[0;32mfor\u001b[0m \u001b[0mi\u001b[0m\u001b[0;34m,\u001b[0m \u001b[0mop\u001b[0m \u001b[0;32min\u001b[0m \u001b[0menumerate\u001b[0m\u001b[0;34m(\u001b[0m\u001b[0mlinear_operators\u001b[0m\u001b[0;34m)\u001b[0m\u001b[0;34m:\u001b[0m\u001b[0;34m\u001b[0m\u001b[0;34m\u001b[0m\u001b[0m\n\u001b[0;32m--> 119\u001b[0;31m             \u001b[0mXi\u001b[0m \u001b[0;34m=\u001b[0m \u001b[0mX\u001b[0m\u001b[0;34m[\u001b[0m\u001b[0mcol_indices\u001b[0m\u001b[0;34m[\u001b[0m\u001b[0mi\u001b[0m\u001b[0;34m]\u001b[0m\u001b[0;34m:\u001b[0m\u001b[0mcol_indices\u001b[0m\u001b[0;34m[\u001b[0m\u001b[0mi\u001b[0m \u001b[0;34m+\u001b[0m \u001b[0;36m1\u001b[0m\u001b[0;34m]\u001b[0m\u001b[0;34m]\u001b[0m\u001b[0;34m\u001b[0m\u001b[0;34m\u001b[0m\u001b[0m\n\u001b[0m\u001b[1;32m    120\u001b[0m             \u001b[0moutputs\u001b[0m\u001b[0;34m.\u001b[0m\u001b[0mappend\u001b[0m\u001b[0;34m(\u001b[0m\u001b[0mop\u001b[0m\u001b[0;34m(\u001b[0m\u001b[0mXi\u001b[0m\u001b[0;34m)\u001b[0m\u001b[0;34m)\u001b[0m\u001b[0;34m\u001b[0m\u001b[0;34m\u001b[0m\u001b[0m\n\u001b[1;32m    121\u001b[0m         \u001b[0;32mreturn\u001b[0m \u001b[0msp\u001b[0m\u001b[0;34m.\u001b[0m\u001b[0mvstack\u001b[0m\u001b[0;34m(\u001b[0m\u001b[0moutputs\u001b[0m\u001b[0;34m)\u001b[0m\u001b[0;34m\u001b[0m\u001b[0;34m\u001b[0m\u001b[0m\n",
      "\u001b[0;32m~/anaconda3/envs/py37cvxpy/lib/python3.7/site-packages/scipy-1.3.2-py3.7-macosx-10.7-x86_64.egg/scipy/sparse/_index.py\u001b[0m in \u001b[0;36m__getitem__\u001b[0;34m(self, key)\u001b[0m\n\u001b[1;32m     47\u001b[0m                 \u001b[0;32mreturn\u001b[0m \u001b[0mself\u001b[0m\u001b[0;34m.\u001b[0m\u001b[0m_get_sliceXint\u001b[0m\u001b[0;34m(\u001b[0m\u001b[0mrow\u001b[0m\u001b[0;34m,\u001b[0m \u001b[0mcol\u001b[0m\u001b[0;34m)\u001b[0m\u001b[0;34m\u001b[0m\u001b[0;34m\u001b[0m\u001b[0m\n\u001b[1;32m     48\u001b[0m             \u001b[0;32melif\u001b[0m \u001b[0misinstance\u001b[0m\u001b[0;34m(\u001b[0m\u001b[0mcol\u001b[0m\u001b[0;34m,\u001b[0m \u001b[0mslice\u001b[0m\u001b[0;34m)\u001b[0m\u001b[0;34m:\u001b[0m\u001b[0;34m\u001b[0m\u001b[0;34m\u001b[0m\u001b[0m\n\u001b[0;32m---> 49\u001b[0;31m                 \u001b[0;32mif\u001b[0m \u001b[0mrow\u001b[0m \u001b[0;34m==\u001b[0m \u001b[0mslice\u001b[0m\u001b[0;34m(\u001b[0m\u001b[0;32mNone\u001b[0m\u001b[0;34m)\u001b[0m \u001b[0;32mand\u001b[0m \u001b[0mrow\u001b[0m \u001b[0;34m==\u001b[0m \u001b[0mcol\u001b[0m\u001b[0;34m:\u001b[0m\u001b[0;34m\u001b[0m\u001b[0;34m\u001b[0m\u001b[0m\n\u001b[0m\u001b[1;32m     50\u001b[0m                     \u001b[0;32mreturn\u001b[0m \u001b[0mself\u001b[0m\u001b[0;34m.\u001b[0m\u001b[0mcopy\u001b[0m\u001b[0;34m(\u001b[0m\u001b[0;34m)\u001b[0m\u001b[0;34m\u001b[0m\u001b[0;34m\u001b[0m\u001b[0m\n\u001b[1;32m     51\u001b[0m                 \u001b[0;32mreturn\u001b[0m \u001b[0mself\u001b[0m\u001b[0;34m.\u001b[0m\u001b[0m_get_sliceXslice\u001b[0m\u001b[0;34m(\u001b[0m\u001b[0mrow\u001b[0m\u001b[0;34m,\u001b[0m \u001b[0mcol\u001b[0m\u001b[0;34m)\u001b[0m\u001b[0;34m\u001b[0m\u001b[0;34m\u001b[0m\u001b[0m\n",
      "\u001b[0;31mKeyboardInterrupt\u001b[0m: "
     ]
    }
   ],
   "source": [
    "\n",
    "config_scvx = dict(\n",
    "    ρ0 = 0,\n",
    "    ρ1 = .25,\n",
    "    ρ2 = .8,\n",
    "    r0 = .1,\n",
    "    α = 3,\n",
    "    β = 2,\n",
    "    tol = 1e-1,\n",
    "    pen_tol = 1e-4,\n",
    "    num_iters = 32)\n",
    "\n",
    "\n",
    "''' initialize '''\n",
    "_x_a = [np.ones((N,2))*x_obs[0][0] for _ in range(na-1)]\n",
    "for k in range(na):\n",
    "#     _x_obs, _r_obs = append_obs(x_obs, r_obs, _x_a, r_buffer)\n",
    "    _x, _u = cvx(x_inits[k], x_dess[k])\n",
    "    _x, _u, _r = scvx(x_inits[k], x_dess[k], _x_obs, _r_obs, \n",
    "                      _x=_x, _u=_u, trial=k, **config_scvx)"
   ]
  },
  {
   "cell_type": "code",
   "execution_count": null,
   "metadata": {},
   "outputs": [],
   "source": [
    "\n",
    "def not_me(na,i):\n",
    "    others = list(range(na))\n",
    "    del others[i]\n",
    "    return others\n",
    "    \n",
    "for br in range(1,num_iter):\n",
    "    for k in range(na):\n",
    "        x_a = [x_brs[br-1][_k][0] @ T.T for _k in not_me(na, k)]\n",
    "        _x_obs, _r_obs = append_obs(x_obs, r_obs, x_a, r_buffer)\n",
    "        _x, _u, _r = scvx(x_inits[k], x_dess[k], _x_obs, _r_obs)#, *x_brs[br-1][k])\n",
    "        x_brs[br][k] = (_x, _u, _r)\n",
    "        "
   ]
  },
  {
   "cell_type": "code",
   "execution_count": null,
   "metadata": {},
   "outputs": [],
   "source": [
    "%store x_brs"
   ]
  },
  {
   "cell_type": "code",
   "execution_count": null,
   "metadata": {},
   "outputs": [],
   "source": []
  }
 ],
 "metadata": {
  "kernelspec": {
   "display_name": "Python [conda env:py37cvxpy]",
   "language": "python",
   "name": "conda-env-py37cvxpy-py"
  },
  "language_info": {
   "codemirror_mode": {
    "name": "ipython",
    "version": 3
   },
   "file_extension": ".py",
   "mimetype": "text/x-python",
   "name": "python",
   "nbconvert_exporter": "python",
   "pygments_lexer": "ipython3",
   "version": "3.7.5"
  }
 },
 "nbformat": 4,
 "nbformat_minor": 2
}
