{
 "cells": [
  {
   "cell_type": "code",
   "execution_count": 1,
   "metadata": {},
   "outputs": [],
   "source": [
    "import jax\n",
    "import jax.numpy as jnp\n",
    "from jax import jit, lax, random, vmap, grad\n",
    "from jax.config import config \n",
    "\n",
    "import numpy as np\n",
    "import matplotlib.pyplot as plt\n",
    "from collections import defaultdict\n",
    "\n",
    "from functools import partial\n",
    "import sys\n",
    "\n",
    "config.update(\"jax_debug_nans\", True)"
   ]
  },
  {
   "cell_type": "code",
   "execution_count": 2,
   "metadata": {},
   "outputs": [
    {
     "name": "stderr",
     "output_type": "stream",
     "text": [
      "/Users/ben/anaconda3/lib/python3.5/site-packages/jax/lib/xla_bridge.py:122: UserWarning: No GPU/TPU found, falling back to CPU.\n",
      "  warnings.warn('No GPU/TPU found, falling back to CPU.')\n"
     ]
    },
    {
     "name": "stdout",
     "output_type": "stream",
     "text": [
      "Compiling...\n",
      "CPU times: user 21.4 s, sys: 574 ms, total: 21.9 s\n",
      "Wall time: 22.6 s\n",
      "done.\n"
     ]
    }
   ],
   "source": [
    "def normal_log_prob(x, loc, scale):\n",
    "    log_unnormalized = -0.5 * (x-loc)**2/scale**2\n",
    "    log_normalization = 0.5 * np.log(2.*np.pi) + jnp.log(scale)\n",
    "    return log_unnormalized - log_normalization\n",
    "\n",
    "def linear_quadratic_two_player(A, B1, B2, Q1, Q2, R11, R12, R21, R22, stop_grad):\n",
    "    \"\"\" Generator for linear state dynamics and quadratic costs. \"\"\"\n",
    "    n_state = A.shape[0]\n",
    "    n_act1 = B1.shape[1]\n",
    "    n_act2 = B2.shape[1]\n",
    "    \n",
    "    assert A.shape[0] == A.shape[1], \"A must be square\"\n",
    "    assert B1.shape == (n_state, n_act1), \"B1 is in the wrong shape\"\n",
    "    assert B2.shape == (n_state, n_act2), \"B2 is in the wrong shape\"\n",
    "    assert R11.shape == (n_act1, n_act1), \"R11 is in the wrong shape\"\n",
    "    assert R12.shape == (n_act2, n_act2), \"R12 is in the wrong shape\"\n",
    "    assert R21.shape == (n_act1, n_act1), \"R21 is in the wrong shape\"\n",
    "    assert R22.shape == (n_act2, n_act2), \"R22 is in the wrong shape\"\n",
    "    assert Q1.shape == (n_state, n_state), \"Q1 is in the wrong shape\"\n",
    "    assert Q2.shape == (n_state, n_state), \"Q2 is in the wrong shape\"\n",
    "    \n",
    "    K1 = jnp.zeros(B1.shape).T\n",
    "    K2 = jnp.zeros(B2.shape).T\n",
    "    \n",
    "    def state_dynamics(state, rng, policies, act_std1, act_std2):\n",
    "        K1, K2 = policies\n",
    "        rng1, rng2 = random.split(rng, 2)\n",
    "        \n",
    "        w1 = random.normal(rng1, (n_act1,))\n",
    "        w2 = random.normal(rng2, (n_act2,))\n",
    "        \n",
    "        \n",
    "        act1 = K1@state + w1*act_std1\n",
    "        act2 = K2@state + w2*act_std2\n",
    "        \n",
    "        if stop_grad:\n",
    "            act1 = lax.stop_gradient(act1)\n",
    "            act2 = lax.stop_gradient(act2)\n",
    "        \n",
    "        logp1 = normal_log_prob(K1@state, loc=act1, scale=act_std1)\n",
    "        logp2 = normal_log_prob(K2@state, loc=act2, scale=act_std2)\n",
    "\n",
    "        state = A@state + B1@act1 + B2@act2 #+ state_std**2*noise\n",
    "\n",
    "        cost1 = state.T@Q1@state + act1.T@R11@act1 + act2.T@R12@act2\n",
    "        cost2 = state.T@Q2@state + act1.T@R21@act1 + act2.T@R22@act2\n",
    "        \n",
    "        info = dict(state=state,\n",
    "                    costs=(cost1, cost2), \n",
    "                    actions=(act1, act2),\n",
    "                    logp=(logp1, logp2))\n",
    "        \n",
    "        return state, info\n",
    "    \n",
    "    return state_dynamics, (K1, K2)\n",
    "\n",
    "\n",
    "def batch_policy_gradient(dynamics, n_horizon, n_samples, sample_mode):\n",
    "    \"\"\" Two modes supported: exact and logprob \"\"\"\n",
    "\n",
    "    def sample_logp(rng, K1, K2, T=n_horizon, **kwargs):\n",
    "        \"\"\" Sample total costs from one trajectory \"\"\"\n",
    "        rngs = random.split(rng, T+1)\n",
    "        x0 = random.normal(rng, (K1.shape[1],))\n",
    "        _, res = lax.scan(partial(dynamics, policies=(K1, K2), **kwargs), x0, rngs)\n",
    "        cost1 = lax.stop_gradient(res['costs'][0])\n",
    "        cost2 = lax.stop_gradient(res['costs'][1])\n",
    "        logp1 = res['logp'][0]\n",
    "        logp2 = res['logp'][1]\n",
    "\n",
    "        return (cost1*logp1).mean(), (cost2*logp2).mean()\n",
    "\n",
    "    def sample_exact(rng, K1, K2, T=n_horizon, **kwargs):\n",
    "        \"\"\" Sample total costs from one trajectory \"\"\"\n",
    "        rngs = random.split(rng, T+1)\n",
    "        x0 = random.normal(rng, (K1.shape[1],))\n",
    "        _, res = lax.scan(partial(dynamics, policies=(K1, K2), **kwargs), x0, rngs)\n",
    "        cost1 = res['costs'][0]\n",
    "        cost2 = res['costs'][1]\n",
    "\n",
    "        return cost1.mean(), cost2.mean()\n",
    "\n",
    "    if sample_mode == 'logprob':\n",
    "        sample = sample_logp\n",
    "    elif sample_mode == 'exact':\n",
    "        sample = sample_exact\n",
    "    else:\n",
    "        assert False, \"sample mode '{}' not supported\".format(sample_mode)\n",
    "\n",
    "    def samples1(rng, K1, K2, N=n_samples, **kwargs):\n",
    "        \"\"\" Sample average total costs from N trajectories (player 1) \"\"\"\n",
    "        rngs = random.split(rng, N)\n",
    "        loss1, loss2 = vmap(partial(sample, K1=K1, K2=K2, **kwargs))(rngs)\n",
    "        return loss1.mean()\n",
    "\n",
    "    def samples2(rng, K1, K2, N=n_samples, **kwargs):\n",
    "        \"\"\" Sample average total costs from N trajectories (player 2) \"\"\"\n",
    "        rngs = random.split(rng, N)\n",
    "        loss1, loss2 = vmap(partial(sample, K1=K1, K2=K2, **kwargs))(rngs)\n",
    "        return loss2.mean()\n",
    "\n",
    "    D1f1 = grad(samples1, argnums=1)\n",
    "    D2f2 = grad(samples2, argnums=2)\n",
    "\n",
    "    return D1f1, D2f2\n",
    "\n",
    "def batch_simgrad(game_form, n_iters):\n",
    "    D1f1, D2f2 = game_form\n",
    "    \n",
    "    def simgrad(policies, rng, lr1, lr2, **kwargs):\n",
    "        K1, K2 = policies\n",
    "        g1, g2 = D1f1(rng, K1, K2, **kwargs), D2f2(rng, K1, K2, **kwargs)\n",
    "\n",
    "        K1 = K1 - lr1*g1\n",
    "        K2 = K2 - lr2*g2\n",
    "\n",
    "        info = dict(K1=K1, K2=K2, \n",
    "            gradnorm1=jnp.linalg.norm(g1), gradnorm2=jnp.linalg.norm(g2))\n",
    "        return (K1, K2), info\n",
    "\n",
    "    def multi_step(rng, policies, N=n_iters, **kwargs):\n",
    "        rngs = random.split(rng, N)\n",
    "        policies, res = lax.scan(partial(simgrad, **kwargs), policies, rngs)\n",
    "        return policies, res\n",
    "    \n",
    "    return jit(multi_step)\n",
    "\n",
    "sample_mode = 'exact'\n",
    "#sample_mode = 'logprob'\n",
    "\n",
    "I = np.eye(1)\n",
    "A = 0.9*I\n",
    "B1, B2 = .2*I, .05*I\n",
    "Q, R1, R2 = 10*I, 1*I, -.5*I\n",
    "\n",
    "sys1_zs_params = dict(A=A, B1=B1, B2=B2, Q1=Q, Q2=-Q, \n",
    "                      R11=R1, R12=R2, R21=-R1, R22=-R2,\n",
    "                      stop_grad=sample_mode=='logprob')\n",
    "batch_pg_params = dict(n_horizon=15, n_samples=32, sample_mode=sample_mode)\n",
    "batch_simgrad_params = dict(n_iters=32)\n",
    "\n",
    "state_dynamics, init_profile = linear_quadratic_two_player(**sys1_zs_params)\n",
    "game_form = batch_policy_gradient(state_dynamics, **batch_pg_params)\n",
    "multi_step = batch_simgrad(game_form, **batch_simgrad_params)\n",
    "\n",
    "\n",
    "def save(results, app):\n",
    "    if results == {}:\n",
    "        for k in app.keys():\n",
    "            results[k] = app[k]\n",
    "    else:\n",
    "        for k in app.keys():\n",
    "            results[k] = np.concatenate((results[k], app[k]))\n",
    "\n",
    "rng = random.PRNGKey(0)\n",
    "dynam_params = dict(act_std1=.1, act_std2=.1)\n",
    "learn_params = dict(lr1=1e-4, lr2=1e-4)\n",
    "print('Compiling...')\n",
    "%time _ = multi_step(rng, init_profile, **dynam_params, **learn_params)\n",
    "print('done.')\n",
    "    "
   ]
  },
  {
   "cell_type": "code",
   "execution_count": 3,
   "metadata": {},
   "outputs": [
    {
     "name": "stdout",
     "output_type": "stream",
     "text": [
      "Running [exact] gradient sampling \n",
      "Epoch: 1000/1000"
     ]
    }
   ],
   "source": [
    "seed = 0\n",
    "n_epoch = 1000\n",
    "dynam_params = dict(act_std1=.5, act_std2=.1)\n",
    "learn_params = dict(lr1=1e-4, lr2=1e-4)\n",
    "K1, K2 = init_profile\n",
    "policies = K1, K2\n",
    "        \n",
    "print('Running [{}] gradient sampling '.format(sample_mode))\n",
    "rng = random.PRNGKey(seed)\n",
    "rngs = random.split(rng, n_epoch)\n",
    "results = dict()\n",
    "for epoch,rng in enumerate(rngs):\n",
    "    policies, res = multi_step(rng, policies, **dynam_params, **learn_params)\n",
    "    sys.stdout.write('\\rEpoch: {}/{}'.format(epoch+1, n_epoch))\n",
    "    save(results, res)"
   ]
  },
  {
   "cell_type": "code",
   "execution_count": 4,
   "metadata": {},
   "outputs": [
    {
     "data": {
      "text/plain": [
       "<matplotlib.legend.Legend at 0x7f8b76035518>"
      ]
     },
     "execution_count": 4,
     "metadata": {},
     "output_type": "execute_result"
    },
    {
     "data": {
      "image/png": "[encoded data removed]",
      "text/plain": [
       "<Figure size 432x288 with 1 Axes>"
      ]
     },
     "metadata": {
      "needs_background": "light"
     },
     "output_type": "display_data"
    }
   ],
   "source": [
    "plt.plot(results['K1'].flatten(), label=\"K1\")\n",
    "plt.plot(results['K2'].flatten(), label=\"K2\")\n",
    "plt.legend()"
   ]
  },
  {
   "cell_type": "code",
   "execution_count": 5,
   "metadata": {},
   "outputs": [
    {
     "data": {
      "text/plain": [
       "<matplotlib.legend.Legend at 0x7f8b7796e470>"
      ]
     },
     "execution_count": 5,
     "metadata": {},
     "output_type": "execute_result"
    },
    {
     "data": {
      "image/png": "[encoded data removed]",
      "text/plain": [
       "<Figure size 432x288 with 1 Axes>"
      ]
     },
     "metadata": {
      "needs_background": "light"
     },
     "output_type": "display_data"
    }
   ],
   "source": [
    "plt.plot(results['gradnorm1'].flatten(), label=\"gradnorm1\")\n",
    "plt.plot(results['gradnorm2'].flatten(), label=\"gradnorm2\")\n",
    "plt.legend()"
   ]
  },
  {
   "cell_type": "code",
   "execution_count": 7,
   "metadata": {},
   "outputs": [
    {
     "data": {
      "text/plain": [
       "{'K1': array([[[-8.0397422e-04]],\n",
       " \n",
       "        [[-1.4888238e-03]],\n",
       " \n",
       "        [[-2.0630346e-03]],\n",
       " \n",
       "        ...,\n",
       " \n",
       "        [[-1.6916076e+00]],\n",
       " \n",
       "        [[-1.6916242e+00]],\n",
       " \n",
       "        [[-1.6916381e+00]]], dtype=float32), 'K2': array([[[2.0002080e-04]],\n",
       " \n",
       "        [[3.7035154e-04]],\n",
       " \n",
       "        [[5.1349035e-04]],\n",
       " \n",
       "        ...,\n",
       " \n",
       "        [[5.3034478e-01]],\n",
       " \n",
       "        [[5.3035134e-01]],\n",
       " \n",
       "        [[5.3035843e-01]]], dtype=float32), 'gradnorm1': array([8.039742  , 6.8484955 , 5.7421083 , ..., 0.1711201 , 0.16589849,\n",
       "        0.1399479 ], dtype=float32), 'gradnorm2': array([2.0002081 , 1.7033073 , 1.4313879 , ..., 0.07523417, 0.0655235 ,\n",
       "        0.07092512], dtype=float32)}"
      ]
     },
     "execution_count": 7,
     "metadata": {},
     "output_type": "execute_result"
    }
   ],
   "source": [
    "results"
   ]
  },
  {
   "cell_type": "code",
   "execution_count": null,
   "metadata": {},
   "outputs": [],
   "source": []
  }
 ],
 "metadata": {
  "kernelspec": {
   "display_name": "Python [default]",
   "language": "python",
   "name": "python3"
  },
  "language_info": {
   "codemirror_mode": {
    "name": "ipython",
    "version": 3
   },
   "file_extension": ".py",
   "mimetype": "text/x-python",
   "name": "python",
   "nbconvert_exporter": "python",
   "pygments_lexer": "ipython3",
   "version": "3.5.6"
  },
  "toc": {
   "base_numbering": 1,
   "nav_menu": {},
   "number_sections": true,
   "sideBar": true,
   "skip_h1_title": false,
   "title_cell": "Table of Contents",
   "title_sidebar": "Contents",
   "toc_cell": false,
   "toc_position": {},
   "toc_section_display": true,
   "toc_window_display": false
  }
 },
 "nbformat": 4,
 "nbformat_minor": 4
}
